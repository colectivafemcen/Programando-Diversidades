{
  "nbformat": 4,
  "nbformat_minor": 0,
  "metadata": {
    "colab": {
      "name": "ProgramandoDiversidades_sesion2.ipynb",
      "provenance": []
    },
    "kernelspec": {
      "name": "python3",
      "display_name": "Python 3"
    },
    "language_info": {
      "name": "python"
    }
  },
  "cells": [
    {
      "cell_type": "markdown",
      "metadata": {
        "id": "qzURZA28mqRV"
      },
      "source": [
        "[![Open In Colab](https://colab.research.google.com/assets/colab-badge.svg)](https://colab.research.google.com/drive/17_JbThCjZvHdcja72NKJNXIdzMCjMw5L?usp=sharing)"
      ]
    },
    {
      "cell_type": "markdown",
      "metadata": {
        "id": "LKGuCSNxsQz-"
      },
      "source": [
        "# Módulo Programando Diversidades - Sesión 2\n",
        "**Numpy y Matplotlib básico**\n",
        "\n",
        "Por: *Nicole Rivera*\n",
        "\n",
        "> En esta sesión se dará una introducción básica a dos de las librerías más usadas de python: **Numpy** y **Matplotlib**. Enfocaremos el ejercicio y la discusión en la aplicabilidad y el manejo de las funciones más usadas en tratamiento y visualización de datos, además de operaciones matemáticas y algunas recomendaciones. "
      ]
    },
    {
      "cell_type": "markdown",
      "metadata": {
        "id": "_LbIZ8Po7JTL"
      },
      "source": [
        "## 1. Generalidades sobre las librerías\n",
        "\n",
        "Ambas librerías [Numpy](https://numpy.org) y [Matplotlib](https://matplotlib.org) son de libre acceso, distribuidas por licencias libres y han sido desarrolladas por la comunidad. Cuentan con documentación detallada y ejemplos para facilitar su uso. \n",
        "\n",
        "\n"
      ]
    },
    {
      "cell_type": "markdown",
      "metadata": {
        "id": "trmTzQ6_OJ88"
      },
      "source": [
        "### 1.1 Convenciones para importar las librerías \n",
        "\n",
        "Dentro de la comunidad de programadores se ha establecido una abreviatura para la importación de las librerías. \n",
        "\n",
        "En el caso de Numpy, se utiliza *np* \n",
        "\n",
        "`import numpy as np`\n",
        "\n",
        "Y, para matplotlib es necesario aclarar que, en esta sesión, se utilizará unicamente el submódulo [pyplot](https://matplotlib.org/stable/api/_as_gen/matplotlib.pyplot.html), el cual se enfoca en la graficación al estilo MAT-LAB. Así pues, en este caso, se utiliza la abreviación *plt*\n",
        "\n",
        "`import matplotlib.pyplot as plt`"
      ]
    },
    {
      "cell_type": "code",
      "metadata": {
        "id": "oPN5bYs0226L"
      },
      "source": [
        "#--- importamos las librerías ---#\n",
        "import numpy as np\n",
        "import matplotlib.pyplot as plt\n",
        "import matplotlib\n",
        "\n",
        "%matplotlib inline"
      ],
      "execution_count": null,
      "outputs": []
    },
    {
      "cell_type": "markdown",
      "metadata": {
        "id": "ELcGLg0S-Q6Q"
      },
      "source": [
        "### 1.2 Documentación y versiones de las librerías\n",
        "\n",
        "Al estar en constante desarrollo, las liberías tienen versiones de acuerdo al nivel de desarrollo de las mismas. Esto se representa con números (por ejemplo 1.2.3) lo cual indica la cambios pequeños en favor del buen funcionamiento (el 2 y el 3) o cambios sustanciales en el funcionamiento o adiciones de métodos (el 1). \n",
        "\n",
        "Para saber los detalles sobre el uso en cada versión debe remitirse a la documentación correspondiente ([documentación Numpy](https://numpy.org/doc/stable/), [documentación Matplotlib](https://matplotlib.org/stable/contents.html)) \n",
        "\n",
        "Finalmente, para saber en con que versión estoy trabajando se utiliza `libreria.__version__`"
      ]
    },
    {
      "cell_type": "code",
      "metadata": {
        "colab": {
          "base_uri": "https://localhost:8080/"
        },
        "id": "P4kz_lBP-OOd",
        "outputId": "7197b41a-d6f1-431f-f190-6446c22a84ba"
      },
      "source": [
        "#--- version de las librerías ---#\n",
        "print('versión de numpy: ', np.__version__)\n",
        "print('versión de matplotlib', matplotlib.__version__)"
      ],
      "execution_count": null,
      "outputs": [
        {
          "output_type": "stream",
          "name": "stdout",
          "text": [
            "versión de numpy:  1.19.5\n",
            "versión de matplotlib 3.2.2\n"
          ]
        }
      ]
    },
    {
      "cell_type": "markdown",
      "metadata": {
        "id": "fxWTm8wtAnmt"
      },
      "source": [
        "## 2. Numpy \n",
        "\n",
        "- **¿Qué es Numpy?**\n",
        ">NumPy es el paquete fundamental para la computación científica en Python. Es una biblioteca de Python que proporciona un objeto de matriz multidimensional, varios objetos derivados (como matrices y matrices enmascaradas) y una variedad de rutinas para operaciones rápidas en matrices, incluidas las matemáticas, lógicas, manipulación de formas, clasificación, selección, E / S. , transformadas discretas de Fourier, álgebra lineal básica, operaciones estadísticas básicas, simulación aleatoria y mucho más. *Tomado de la página oficial*\n",
        "\n",
        "- **¿Quién usa Numpy?**\n",
        "\n",
        "Todo aquel que en su campo de estudio necesite de una herramienta flexible y vectorizada que permita el manejo de datos en diferentes formatos tal que se ajusten a su paradigama de codificación. En otras palabras, *Todo aquel que lo encuentre útil para su problema de estudio*.\n",
        "\n",
        "- **Ventajas de Numpy**\n",
        "\n",
        "Está vectorizado, lo cual significa que no se necesita un bucle explícito, indexación, etc., para lograr alguno métodos. Además, está optminizado en C, tal que sea mucho más rápido que una programación en Python como tal. \n",
        "\n",
        "Es consciso y más fácil de leer, nos ahorra líneas de código y hace las operaciones multidimensionales más sencillas para el usuario."
      ]
    },
    {
      "cell_type": "markdown",
      "metadata": {
        "id": "q8vHwsO2Jt17"
      },
      "source": [
        "### 2.1 Numpy array y sus diferencias con las listas de Python\n",
        "\n",
        ">En el núcleo del paquete NumPy, se encuentra el objeto *ndarray*. Esto encapsula matrices n-dimensionales de tipos de datos homogéneos, con muchas operaciones que se realizan en código compilado para el rendimiento. *Tomado de la página oficial*\n",
        "\n",
        "**Diferencias entre ndarray y listas**\n",
        "\n",
        "- Los NumPy array tienen un tamaño fijo en la creación.\n",
        "- Todos los elementos de un NumPy array deben ser del mismo tipo de datos. \n",
        "- Los NumPy array facilitan operaciones matemáticas avanzadas y de otro tipo en grandes cantidades de datos."
      ]
    },
    {
      "cell_type": "code",
      "metadata": {
        "colab": {
          "base_uri": "https://localhost:8080/"
        },
        "id": "vUfJtgK9MwI6",
        "outputId": "239d6ece-2a58-4642-daa8-3580893f24c2"
      },
      "source": [
        "# --- lista vs array ---#\n",
        "\n",
        "# crear y añadir elementos \n",
        "\n",
        "lista1 = [1, 2, 3, 4, 5]\n",
        "array1 = np.array([lista1]) # np.arange(1, 6)\n",
        "\n",
        "lista1.append(6)\n",
        "np.append(array1, 6) #crea una copia de array1 y le añade el elemento 6\n",
        "\n",
        "print(lista1)\n",
        "print(array1)"
      ],
      "execution_count": null,
      "outputs": [
        {
          "output_type": "stream",
          "name": "stdout",
          "text": [
            "[1, 2, 3, 4, 5, 6]\n",
            "[[1 2 3 4 5]]\n"
          ]
        }
      ]
    },
    {
      "cell_type": "code",
      "metadata": {
        "colab": {
          "base_uri": "https://localhost:8080/"
        },
        "id": "9FnWpJaxNuDn",
        "outputId": "3205e1ac-f1df-4950-e8ca-e3d29c62a522"
      },
      "source": [
        "# tipos de datos\n",
        "\n",
        "lista2 = [1, '2', 4, 'hola', True]\n",
        "array2 = np.array(lista2)\n",
        "\n",
        "print(lista2)\n",
        "print(array2)"
      ],
      "execution_count": null,
      "outputs": [
        {
          "output_type": "stream",
          "name": "stdout",
          "text": [
            "[1, '2', 4, 'hola', True]\n",
            "['1' '2' '4' 'hola' 'True']\n"
          ]
        }
      ]
    },
    {
      "cell_type": "code",
      "metadata": {
        "colab": {
          "base_uri": "https://localhost:8080/"
        },
        "id": "4msvHO8PPA7G",
        "outputId": "e70bd882-8dee-4e65-a91e-da45eb0ff650"
      },
      "source": [
        "# multiplicar por un entero \n",
        "\n",
        "lista3 = [1, 2, 3, 4, 5]\n",
        "\n",
        "print(lista3 * 9)"
      ],
      "execution_count": null,
      "outputs": [
        {
          "output_type": "stream",
          "name": "stdout",
          "text": [
            "[1, 2, 3, 4, 5, 1, 2, 3, 4, 5, 1, 2, 3, 4, 5, 1, 2, 3, 4, 5, 1, 2, 3, 4, 5, 1, 2, 3, 4, 5, 1, 2, 3, 4, 5, 1, 2, 3, 4, 5, 1, 2, 3, 4, 5]\n"
          ]
        }
      ]
    },
    {
      "cell_type": "code",
      "metadata": {
        "colab": {
          "base_uri": "https://localhost:8080/"
        },
        "id": "XIp-TsicP_l8",
        "outputId": "dca5228c-ce7d-4526-eb7a-4e285e8cea87"
      },
      "source": [
        "for i in lista3:\n",
        "  i = i*9 #i*=9\n",
        "\n",
        "print(lista3)"
      ],
      "execution_count": null,
      "outputs": [
        {
          "output_type": "stream",
          "name": "stdout",
          "text": [
            "[1, 2, 3, 4, 5]\n"
          ]
        }
      ]
    },
    {
      "cell_type": "code",
      "metadata": {
        "colab": {
          "base_uri": "https://localhost:8080/"
        },
        "id": "FJPLbtTuQZYW",
        "outputId": "ed30f654-f8e3-4fb3-ec4c-4b6ad4e031a6"
      },
      "source": [
        "for i in range(len(lista3)):\n",
        "  lista3[i] *= 9\n",
        "\n",
        "print(lista3)"
      ],
      "execution_count": null,
      "outputs": [
        {
          "output_type": "stream",
          "name": "stdout",
          "text": [
            "[9, 18, 27, 36, 45]\n"
          ]
        }
      ]
    },
    {
      "cell_type": "code",
      "metadata": {
        "colab": {
          "base_uri": "https://localhost:8080/"
        },
        "id": "IycsETXEQq2O",
        "outputId": "080d697e-dbe6-4047-92e3-20aa5819f99f"
      },
      "source": [
        "array3 = np.array([1, 2, 3, 4, 5])\n",
        "\n",
        "print(array3 * 9)"
      ],
      "execution_count": null,
      "outputs": [
        {
          "output_type": "stream",
          "name": "stdout",
          "text": [
            "[ 9 18 27 36 45]\n"
          ]
        }
      ]
    },
    {
      "cell_type": "markdown",
      "metadata": {
        "id": "naCRcI5fSR5n"
      },
      "source": [
        "### 2.2 Formas de crear Numpy arrays\n",
        "\n",
        "Existen diversas maneras de crear un Numpy array. Estas pueden ir desde crear una lista y luego convertirla en Numpy array a través del método `np.array()` hasta usar un método de Numpy como `linspace`, `arange`, `zeros`, `ones`, entre otros. "
      ]
    },
    {
      "cell_type": "code",
      "metadata": {
        "id": "4xXTdN_HTE-A"
      },
      "source": [
        "# --- creando Numpy arrays --- #\n",
        "\n",
        "# creamos array 1D \n",
        "arr1 = np.linspace(0, 100, 10)\n",
        "arr2 = np.arange(0, 100, 10)\n",
        "arr3 = np.zeros_like(arr1)\n",
        "arr4 = np.ones_like(arr2)\n",
        "\n",
        "# creamos array 2D\n",
        "arr2D = np.array([[1, 2, 3, 4, 5],[5, 10, 15, 20, 25]])"
      ],
      "execution_count": null,
      "outputs": []
    },
    {
      "cell_type": "code",
      "metadata": {
        "colab": {
          "base_uri": "https://localhost:8080/"
        },
        "id": "kAx32J_5b2Fa",
        "outputId": "19dbf9d2-6d0b-4114-c069-96c60cf12af1"
      },
      "source": [
        "print(arr1, arr3)"
      ],
      "execution_count": null,
      "outputs": [
        {
          "output_type": "stream",
          "name": "stdout",
          "text": [
            "[  0.          11.11111111  22.22222222  33.33333333  44.44444444\n",
            "  55.55555556  66.66666667  77.77777778  88.88888889 100.        ] [0. 0. 0. 0. 0. 0. 0. 0. 0. 0.]\n"
          ]
        }
      ]
    },
    {
      "cell_type": "code",
      "metadata": {
        "colab": {
          "base_uri": "https://localhost:8080/"
        },
        "id": "3MbUJn36b_-z",
        "outputId": "c410b56d-fe92-4fc6-886f-69e01398db04"
      },
      "source": [
        "print(arr2, arr4)"
      ],
      "execution_count": null,
      "outputs": [
        {
          "output_type": "stream",
          "name": "stdout",
          "text": [
            "[ 0 10 20 30 40 50 60 70 80 90] [1 1 1 1 1 1 1 1 1 1]\n"
          ]
        }
      ]
    },
    {
      "cell_type": "markdown",
      "metadata": {
        "id": "iLbZi1MgaSOA"
      },
      "source": [
        "Uno de los métodos útiles de Numpy es el generador de números aleatorios. Este puede ser de acuerdo a una destribución de probabilidad especifica y en los rangos que elija el usuario."
      ]
    },
    {
      "cell_type": "code",
      "metadata": {
        "id": "GN3dbCgSaCd0"
      },
      "source": [
        "# creamos array con números aleatorios\n",
        "\n",
        "enteros = np.random.randint(1, high=10, size=100)\n",
        "uniform_dist1D = np.random.rand(10)\n",
        "uniform_dist2D = np.random.rand(2, 10)\n",
        "uniform_dist3D = np.random.rand(2, 2, 2)"
      ],
      "execution_count": null,
      "outputs": []
    },
    {
      "cell_type": "code",
      "metadata": {
        "colab": {
          "base_uri": "https://localhost:8080/"
        },
        "id": "ZfKSyg5cbheI",
        "outputId": "f8fa887c-992e-40e1-92d9-e5b08c45072c"
      },
      "source": [
        "print(uniform_dist1D)"
      ],
      "execution_count": null,
      "outputs": [
        {
          "output_type": "stream",
          "name": "stdout",
          "text": [
            "[0.52487447 0.13292547 0.45284723 0.84462602 0.33304247 0.33198951\n",
            " 0.97758042 0.38285262 0.65552764 0.22264668]\n"
          ]
        }
      ]
    },
    {
      "cell_type": "code",
      "metadata": {
        "colab": {
          "base_uri": "https://localhost:8080/"
        },
        "id": "DWmXfIOKbme6",
        "outputId": "005de11a-c965-4c39-c1ef-86dd2ea19c75"
      },
      "source": [
        "print(uniform_dist2D)"
      ],
      "execution_count": null,
      "outputs": [
        {
          "output_type": "stream",
          "name": "stdout",
          "text": [
            "[[0.73497851 0.74289282 0.02833423 0.60719565 0.13209099 0.01509491\n",
            "  0.75832495 0.81057397 0.56585709 0.65171788]\n",
            " [0.33718715 0.5854648  0.10227583 0.06264879 0.56495724 0.32877223\n",
            "  0.54662479 0.6874473  0.68159985 0.08194361]]\n"
          ]
        }
      ]
    },
    {
      "cell_type": "code",
      "metadata": {
        "colab": {
          "base_uri": "https://localhost:8080/"
        },
        "id": "qFGkschrbnxG",
        "outputId": "b3e48d94-2341-41ca-8721-ffa7092d5d20"
      },
      "source": [
        "print(uniform_dist3D)"
      ],
      "execution_count": null,
      "outputs": [
        {
          "output_type": "stream",
          "name": "stdout",
          "text": [
            "[[[0.01106191 0.41971791]\n",
            "  [0.17026167 0.62727563]]\n",
            "\n",
            " [[0.0241488  0.47041114]\n",
            "  [0.54207596 0.46644377]]]\n"
          ]
        }
      ]
    },
    {
      "cell_type": "code",
      "metadata": {
        "id": "4M31Nk8WcZk4"
      },
      "source": [
        "mu, sigma = 0, 0.1 # media y desviación estándar\n",
        "s = np.random.normal(mu, sigma, 1000)"
      ],
      "execution_count": null,
      "outputs": []
    },
    {
      "cell_type": "code",
      "metadata": {
        "colab": {
          "base_uri": "https://localhost:8080/",
          "height": 265
        },
        "id": "w1KWS5Zfcc4N",
        "outputId": "49a75002-5913-4389-9c46-9d916d2c5459"
      },
      "source": [
        "count, bins, ignored = plt.hist(s, 30, density=True)\n",
        "plt.plot(bins, 1/(sigma * np.sqrt(2 * np.pi)) * np.exp( - (bins - mu)**2 / (2 * sigma**2) ), linewidth=2, color='r')\n",
        "plt.show()"
      ],
      "execution_count": null,
      "outputs": [
        {
          "output_type": "display_data",
          "data": {
            "image/png": "[encoded data removed]",
            "text/plain": [
              "<Figure size 432x288 with 1 Axes>"
            ]
          },
          "metadata": {
            "needs_background": "light"
          }
        }
      ]
    },
    {
      "cell_type": "markdown",
      "metadata": {
        "id": "k3kgmSqwUC8h"
      },
      "source": [
        "### 2.3 Dimensión, tamaño y elementos de un Numpy array\n",
        "\n",
        "Una vez creado un Numpy array, podemos acceder a la información de dicho elemento a través de varios métodos. Algunos de los datos más importantes es el tamaño, la dimensión, el valor de algún elemento (o grupo de elementos), entre otros. "
      ]
    },
    {
      "cell_type": "code",
      "metadata": {
        "colab": {
          "base_uri": "https://localhost:8080/"
        },
        "id": "AXgRI-VCTtTw",
        "outputId": "8f2a37e5-a5f8-44ca-f9c0-e29edad32079"
      },
      "source": [
        "# --- tamaño --- #\n",
        "\n",
        "print('arr1: ', len(arr1), arr1.size)\n",
        "print('arr2: ', len(arr2), arr2.size)\n",
        "print('arr3: ', len(arr3), arr3.size)\n",
        "print('arr4: ', len(arr4), arr4.size)\n",
        "print('arr2D: ', len(arr2D), arr2D.size)"
      ],
      "execution_count": null,
      "outputs": [
        {
          "output_type": "stream",
          "name": "stdout",
          "text": [
            "arr1:  10 10\n",
            "arr2:  10 10\n",
            "arr3:  10 10\n",
            "arr4:  10 10\n",
            "arr2D:  2 10\n"
          ]
        }
      ]
    },
    {
      "cell_type": "code",
      "metadata": {
        "colab": {
          "base_uri": "https://localhost:8080/"
        },
        "id": "qwNuJPyTUwh_",
        "outputId": "2de3b428-0d51-4459-f6ab-9281e45652e6"
      },
      "source": [
        "# --- dimensión --- #\n",
        "print('arr2: ', arr2.shape)\n",
        "print('arr2D: ', arr2D.shape)"
      ],
      "execution_count": null,
      "outputs": [
        {
          "output_type": "stream",
          "name": "stdout",
          "text": [
            "arr2:  (10,)\n",
            "arr2D:  (2, 5)\n"
          ]
        }
      ]
    },
    {
      "cell_type": "code",
      "metadata": {
        "colab": {
          "base_uri": "https://localhost:8080/"
        },
        "id": "ifQJ_o2WU585",
        "outputId": "7ba9dbd7-b067-4efd-84ca-c701bd410f64"
      },
      "source": [
        "# --- elementos --- #\n",
        "\n",
        "print('primer elemento arr2: ', arr2[0])\n",
        "print('último elemento arr2: ', arr2[-1])\n",
        "print('primer elemento arr2D: ', arr2D[0])\n",
        "print('primer elemento de la primera fila array2D: ', arr2D[0][0])\n",
        "print('último elemento de la primera fila arr2D: ', arr2D[0][-1])\n",
        "print('último elemento de la última fila arr2D: ', arr2D[-1][-1])"
      ],
      "execution_count": null,
      "outputs": [
        {
          "output_type": "stream",
          "name": "stdout",
          "text": [
            "primer elemento arr2:  0\n",
            "último elemento arr2:  90\n",
            "primer elemento arr2D:  [1 2 3 4 5]\n",
            "primer elemento de la primera fila array2D:  1\n",
            "último elemento de la primera fila arr2D:  5\n",
            "último elemento de la última fila arr2D:  25\n"
          ]
        }
      ]
    },
    {
      "cell_type": "markdown",
      "metadata": {
        "id": "x2pF99RTYNll"
      },
      "source": [
        "![imagen](http://scipy-lectures.org/_images/numpy_indexing.png)"
      ]
    },
    {
      "cell_type": "code",
      "metadata": {
        "colab": {
          "base_uri": "https://localhost:8080/"
        },
        "id": "Io6D9I3rdqkd",
        "outputId": "87795312-66d0-4875-d3a8-7d0e518fb6d6"
      },
      "source": [
        "uniform_dist2D.shape"
      ],
      "execution_count": null,
      "outputs": [
        {
          "output_type": "execute_result",
          "data": {
            "text/plain": [
              "(2, 10)"
            ]
          },
          "metadata": {},
          "execution_count": 21
        }
      ]
    },
    {
      "cell_type": "code",
      "metadata": {
        "colab": {
          "base_uri": "https://localhost:8080/"
        },
        "id": "iPyP6TICW2d1",
        "outputId": "a0deb45f-95ad-4f3a-fcb1-5b2fc878aa72"
      },
      "source": [
        "# seleccionar elementos primera fila, desde la tercera columna hasta la sexta\n",
        "uniform_dist2D[0, 2:6]"
      ],
      "execution_count": null,
      "outputs": [
        {
          "output_type": "execute_result",
          "data": {
            "text/plain": [
              "array([0.02833423, 0.60719565, 0.13209099, 0.01509491])"
            ]
          },
          "metadata": {},
          "execution_count": 22
        }
      ]
    },
    {
      "cell_type": "code",
      "metadata": {
        "colab": {
          "base_uri": "https://localhost:8080/"
        },
        "id": "1MukmfYCdTte",
        "outputId": "238dacea-0d5c-4e7d-88c4-30e75ec61ae9"
      },
      "source": [
        "uniform_dist1D"
      ],
      "execution_count": null,
      "outputs": [
        {
          "output_type": "execute_result",
          "data": {
            "text/plain": [
              "array([0.52487447, 0.13292547, 0.45284723, 0.84462602, 0.33304247,\n",
              "       0.33198951, 0.97758042, 0.38285262, 0.65552764, 0.22264668])"
            ]
          },
          "metadata": {},
          "execution_count": 23
        }
      ]
    },
    {
      "cell_type": "code",
      "metadata": {
        "colab": {
          "base_uri": "https://localhost:8080/"
        },
        "id": "G-E_1mKmd27F",
        "outputId": "2da54576-4d86-4c2a-a515-9d06dc6a2852"
      },
      "source": [
        "uniform_dist1D[1:5:3]"
      ],
      "execution_count": null,
      "outputs": [
        {
          "output_type": "execute_result",
          "data": {
            "text/plain": [
              "array([0.13292547, 0.33304247])"
            ]
          },
          "metadata": {},
          "execution_count": 24
        }
      ]
    },
    {
      "cell_type": "markdown",
      "metadata": {
        "id": "HnU-SBt1ezPc"
      },
      "source": [
        "### 2.4 Orden y filtros en un Numpy array\n",
        "\n",
        "Cuando trabajamos con grandes volumenes de datos es conveniente organizar algunos elementos para faciliar la lectura o intepretación de los mismos. Además, en ocasiones es necesario averiguar si hay un elemento especifico en nuestro conjunto de datos, por ejemplo, si nuestros datos son las edades de un grupo de personas, podemos saber si hay alguien con 60 años o mas a traves de las funciones de Numpy. \n",
        "\n",
        "En primer lugar estudiaremos como organizar un Numpy array a través del método sort."
      ]
    },
    {
      "cell_type": "code",
      "metadata": {
        "colab": {
          "base_uri": "https://localhost:8080/"
        },
        "id": "S5AEs6xV_H4I",
        "outputId": "40080253-cf77-4473-f98b-189ace5cdfe7"
      },
      "source": [
        "# --- ordenar elementos de menor a mayor ---#\n",
        "\n",
        "toSort = np.array([0, 10, -5, 87, 3, 54, -10])\n",
        "sortArray = np.sort(toSort)\n",
        "\n",
        "print(toSort)\n",
        "print(sortArray)"
      ],
      "execution_count": null,
      "outputs": [
        {
          "output_type": "stream",
          "name": "stdout",
          "text": [
            "[  0  10  -5  87   3  54 -10]\n",
            "[-10  -5   0   3  10  54  87]\n"
          ]
        }
      ]
    },
    {
      "cell_type": "code",
      "metadata": {
        "colab": {
          "base_uri": "https://localhost:8080/"
        },
        "id": "XN6czXxoAmOy",
        "outputId": "e0d3dc71-cc05-4b68-b533-328aa117e140"
      },
      "source": [
        "# --- ordenar elementos de mayor a menor ---#\n",
        "\n",
        "sortArray2 = np.sort(toSort)[::-1]\n",
        "print(sortArray2)"
      ],
      "execution_count": null,
      "outputs": [
        {
          "output_type": "stream",
          "name": "stdout",
          "text": [
            "[ 87  54  10   3   0  -5 -10]\n"
          ]
        }
      ]
    },
    {
      "cell_type": "markdown",
      "metadata": {
        "id": "b6FY99swDg9R"
      },
      "source": [
        "En caso que se desee filtrar un Numpy array es importante entender como funcionan las operaciones de valor entre arrays o entre un array y una condición.\n",
        "\n",
        "Para comparar arrays se pueden usar las funciones `np.greater`, `np.less`, `np.equal`, `np.not_equal`, entre otras."
      ]
    },
    {
      "cell_type": "code",
      "metadata": {
        "id": "AIaibdbTEhJK"
      },
      "source": [
        "a = np.array([5, 4, 2, 7, 1, 0, 5, 6, 3, 2, -10])\n",
        "b = np.array([7, 1, 0, 5, 4, 2, 5, 2, 3, 6, 10])"
      ],
      "execution_count": null,
      "outputs": []
    },
    {
      "cell_type": "code",
      "metadata": {
        "colab": {
          "base_uri": "https://localhost:8080/"
        },
        "id": "089YzeykE3RW",
        "outputId": "6213d60e-15de-4895-a0fd-d5a23d99399d"
      },
      "source": [
        "# --- comparando arrays --- #\n",
        "print('Comparación elemento a elemento')\n",
        "print('a > b', np.greater(a, b)) # a > b (element-wise comparation)\n",
        "print('a < b', np.less(a, b)) # a < b\n",
        "print('a == b', np.equal(a, b)) # a == b\n",
        "print('a != b', np.not_equal(a, b)) # a != b"
      ],
      "execution_count": null,
      "outputs": [
        {
          "output_type": "stream",
          "name": "stdout",
          "text": [
            "Comparación elemento a elemento\n",
            "a > b [False  True  True  True False False False  True False False False]\n",
            "a < b [ True False False False  True  True False False False  True  True]\n",
            "a == b [False False False False False False  True False  True False False]\n",
            "a != b [ True  True  True  True  True  True False  True False  True  True]\n"
          ]
        }
      ]
    },
    {
      "cell_type": "code",
      "metadata": {
        "colab": {
          "base_uri": "https://localhost:8080/"
        },
        "id": "dy89nXtzE3Zw",
        "outputId": "603d84f9-5544-4eca-d37a-b74ef32e7bae"
      },
      "source": [
        "# --- seleccionando solo los elementos que cumplan con la condición --- #\n",
        "\n",
        "a5 = a[a>5] \n",
        "b6 = b[b<6]\n",
        "\n",
        "print('elmentos mayores que 5: ', a5)\n",
        "print('elmentos menores que 6: ', b6)"
      ],
      "execution_count": null,
      "outputs": [
        {
          "output_type": "stream",
          "name": "stdout",
          "text": [
            "elmentos mayores que 5:  [7 6]\n",
            "elmentos menores que 6:  [1 0 5 4 2 5 2 3]\n"
          ]
        }
      ]
    },
    {
      "cell_type": "markdown",
      "metadata": {
        "id": "qjeTxByhG9jc"
      },
      "source": [
        "En el caso de querer encontrar el indice de un elemento se pueden usar los métodos `np.argmax`, `np.argmin`, `np.where`. Y, en caso de listar los elementos que cumplan cierta condición se pueden usar los métodos `.max`, `.min` y extraer con los indices la información \n"
      ]
    },
    {
      "cell_type": "code",
      "metadata": {
        "colab": {
          "base_uri": "https://localhost:8080/"
        },
        "id": "4qcIOPBzH837",
        "outputId": "a0b22739-ba9e-4784-da69-374dd569fbab"
      },
      "source": [
        "# --- máximo y mínimo de un array y su indice --- #\n",
        "print('array: ', a)\n",
        "print('máximo valor: ', a.max(), ' indice: ', np.argmax(a))\n",
        "print('mínimo valor: ', a.min(), ' indice: ', np.argmin(a))"
      ],
      "execution_count": null,
      "outputs": [
        {
          "output_type": "stream",
          "name": "stdout",
          "text": [
            "array:  [  5   4   2   7   1   0   5   6   3   2 -10]\n",
            "máximo valor:  7  indice:  3\n",
            "mínimo valor:  -10  indice:  10\n"
          ]
        }
      ]
    },
    {
      "cell_type": "code",
      "metadata": {
        "colab": {
          "base_uri": "https://localhost:8080/"
        },
        "id": "9eQ7meApH9Cw",
        "outputId": "8ac39bce-d4f0-4899-f539-d58720cd392f"
      },
      "source": [
        "# --- valor especifico --- #\n",
        "print('indices del valor 5: ', np.where(a == 5)[0])\n",
        "print('indices de elementos mayores a 5: ', np.where(a>5)[0])\n",
        "print('elementos mayores que 5: ', a[np.where(a>5)])"
      ],
      "execution_count": null,
      "outputs": [
        {
          "output_type": "stream",
          "name": "stdout",
          "text": [
            "indices del valor 5:  [0 6]\n",
            "indices de elementos mayores a 5:  [3 7]\n",
            "elementos mayores que 5:  [7 6]\n"
          ]
        }
      ]
    },
    {
      "cell_type": "code",
      "metadata": {
        "colab": {
          "base_uri": "https://localhost:8080/"
        },
        "id": "LjkZj4pyKxyM",
        "outputId": "a4f8de59-0943-41e2-dad8-77bd6bf34c22"
      },
      "source": [
        "# --- contar los valores diferentes de cero --- #\n",
        "print('tamaño: ', a.size, ', valores no nulos: ', np.count_nonzero(a))"
      ],
      "execution_count": null,
      "outputs": [
        {
          "output_type": "stream",
          "name": "stdout",
          "text": [
            "tamaño:  11 , valores no nulos:  10\n"
          ]
        }
      ]
    },
    {
      "cell_type": "markdown",
      "metadata": {
        "id": "voIGU9d3ePdq"
      },
      "source": [
        "### 2.5 Operaciones mátematicas con Numpy\n",
        "\n",
        "Ahora si, vamos a discutir otro fuerte de Numpy, lo cual es las operaciones, funciones y demás cositas matemáticas :) \n",
        "\n",
        "Solo para mencionar, Numpy tiene integradas las funciones trigonométricas $sin(x)$, $cos(x)$, $tan(x)$, sus inversas, funciones hiperbólicas y otras. Conversión de grados a radianes y viceversa. Tambien están las opciones de suma, resta y producto de todos los elementos de un array. Exponenciales, logaritmos, operaciones matriciales y mucho mucho más... Si quieren echar un vistazo les dejo este [link a la documentación de matemáticas](https://numpy.org/doc/stable/reference/routines.math.html) y el [link a las funciones de álgebra lineal](https://numpy.org/doc/stable/reference/routines.linalg.html). \n"
      ]
    },
    {
      "cell_type": "markdown",
      "metadata": {
        "id": "FAn-7m4IQHpc"
      },
      "source": [
        "Ahora bien, en el marco del tratamiento de datos, lo más útil son las funciones estadisticas que nos permiten conocer información a cerca de nuestros datos. Entre estos se encuentran:\n",
        "\n",
        "- Percentiles: medida de posición usada en estadística que indica, una vez ordenados los datos de menor a mayor, el valor de la variable por debajo del cual se encuentra un porcentaje dado de observaciones en un grupo"
      ]
    },
    {
      "cell_type": "code",
      "metadata": {
        "id": "TnPsf6Drd3Ab",
        "colab": {
          "base_uri": "https://localhost:8080/"
        },
        "outputId": "5bd6a940-cc04-4f20-fcab-195c9ba47d8c"
      },
      "source": [
        "# --- percentiles de datos --- # \n",
        "\n",
        "c = np.linspace(0, 100, 200)\n",
        "\n",
        "print('percentil 20: ', np.percentile(c, 20))\n",
        "print('percentil 50: ', np.percentile(c, 50))\n",
        "print('percentil 70: ', np.percentile(c, 70))"
      ],
      "execution_count": null,
      "outputs": [
        {
          "output_type": "stream",
          "name": "stdout",
          "text": [
            "percentil 20:  20.0\n",
            "percentil 50:  50.0\n",
            "percentil 70:  69.99999999999999\n"
          ]
        }
      ]
    },
    {
      "cell_type": "code",
      "metadata": {
        "colab": {
          "base_uri": "https://localhost:8080/"
        },
        "id": "LsgbNze-RO2A",
        "outputId": "ccc6636b-5b1e-4c87-d930-2c5f38b1d761"
      },
      "source": [
        "d = np.array([[10.0, 8.0, 6.0, 4.0],[3.0, 5.0, 7.0, 9.0]])\n",
        "\n",
        "print('percentil 20 para cada fila', np.percentile(d, 20, axis=1))\n",
        "print('percentil 50 para cada columna', np.percentile(d, 50, axis=0))"
      ],
      "execution_count": null,
      "outputs": [
        {
          "output_type": "stream",
          "name": "stdout",
          "text": [
            "percentil 20 para cada fila [5.2 4.2]\n",
            "percentil 50 para cada columna [6.5 6.5 6.5 6.5]\n"
          ]
        }
      ]
    },
    {
      "cell_type": "code",
      "metadata": {
        "id": "9Q6ruO3aeiuD",
        "colab": {
          "base_uri": "https://localhost:8080/"
        },
        "outputId": "5054566d-bf49-4e7f-f03b-0129ca67874d"
      },
      "source": [
        "# --- en caso de datos faltantes --- #\n",
        "d[0][2] = np.nan #cambiamos un valor a nan\n",
        "\n",
        "print(d)\n",
        "print('percentil 20 para cada fila', np.percentile(d, 20, axis=1))\n",
        "print('nanpercentil 20 para cada fila', np.nanpercentile(d, 20, axis=1))"
      ],
      "execution_count": null,
      "outputs": [
        {
          "output_type": "stream",
          "name": "stdout",
          "text": [
            "[[10.  8. nan  4.]\n",
            " [ 3.  5.  7.  9.]]\n",
            "percentil 20 para cada fila [nan 4.2]\n",
            "nanpercentil 20 para cada fila [5.6 4.2]\n"
          ]
        }
      ]
    },
    {
      "cell_type": "markdown",
      "metadata": {
        "id": "t1_eFX2-Snbg"
      },
      "source": [
        "- Media, mediana, promedio, desviacion estandar, varianza (cada uno de estos métodos tambien tiene su versión nan tal que se ignoren los valores faltantes para el computo de la información solicitada)"
      ]
    },
    {
      "cell_type": "code",
      "metadata": {
        "id": "H6szVK1seizK",
        "colab": {
          "base_uri": "https://localhost:8080/"
        },
        "outputId": "af2cbf3b-1665-467c-a448-6a7fdef677c6"
      },
      "source": [
        "print('mediana de c: ', np.median(c))\n",
        "print('media de c: ', np.mean(c))\n",
        "print('promedio pesado de c: ', np.average(c))\n",
        "print('desviación estandar de c: ', np.std(c))\n",
        "print('varianza de c: ', np.var(c))\n",
        "\n",
        "print('mediana de d: ', np.nanmedian(d))\n",
        "print('media de d: ', np.nanmean(d))\n",
        "print('promedio pesado de d: ', np.average(d))\n",
        "print('desviación estandar de d: '); print(np.nanstd(d, axis=1, keepdims=True))\n",
        "print('varianza de d: ', np.nanvar(d, axis=0, keepdims=True))"
      ],
      "execution_count": null,
      "outputs": [
        {
          "output_type": "stream",
          "name": "stdout",
          "text": [
            "mediana de c:  50.0\n",
            "media de c:  49.99999999999999\n",
            "promedio pesado de c:  49.99999999999999\n",
            "desviación estandar de c:  29.01221368171632\n",
            "varianza de c:  841.7085427135677\n",
            "mediana de d:  7.0\n",
            "media de d:  6.571428571428571\n",
            "promedio pesado de d:  nan\n",
            "desviación estandar de d: \n",
            "[[2.49443826]\n",
            " [2.23606798]]\n",
            "varianza de d:  [[12.25  2.25  0.    6.25]]\n"
          ]
        }
      ]
    },
    {
      "cell_type": "markdown",
      "metadata": {
        "id": "o1kK-YXZVZMR"
      },
      "source": [
        "## 3. Matplotlib.pyplot\n",
        "\n",
        "**¿Qué es?**\n",
        "\n",
        ">Es una biblioteca para la generación de gráficos a partir de datos contenidos en listas o arrays en el lenguaje de programación Python y su extensión matemática NumPy. *Wikipedia*\n",
        "\n",
        "**Ventajas**\n",
        "\n",
        "Es fácil de leer y óptimo, su sintaxis permite una comprensión medianamente intuitiva sobre lo que hay que hacer. Amplia documentación y variedad de estilos. "
      ]
    },
    {
      "cell_type": "markdown",
      "metadata": {
        "id": "SqmIDFVVWqz3"
      },
      "source": [
        "### 3.1 Gráficos con datos númericos \n",
        "\n",
        "En primer lugar miraremos la función `plt.plot` la cual es ampliamentte usada para visualizar datos en 2D. "
      ]
    },
    {
      "cell_type": "code",
      "metadata": {
        "id": "2vxlm9i9XT_2"
      },
      "source": [
        "# --- creamos datos para gráficar --- #\n",
        "\n",
        "x1 = np.arange(0, 10, 0.1)\n",
        "y1 = 2*x1 + 0.4\n",
        "y2 = np.exp(x1)"
      ],
      "execution_count": null,
      "outputs": []
    },
    {
      "cell_type": "code",
      "metadata": {
        "colab": {
          "base_uri": "https://localhost:8080/",
          "height": 282
        },
        "id": "EKHDXtjfTVqU",
        "outputId": "5ab34a6c-9869-4ba4-8b86-0d096584ff99"
      },
      "source": [
        "plt.plot(x1, y1, 'go--', linewidth=2, markersize=12)"
      ],
      "execution_count": null,
      "outputs": [
        {
          "output_type": "execute_result",
          "data": {
            "text/plain": [
              "[<matplotlib.lines.Line2D at 0x7fad41967590>]"
            ]
          },
          "metadata": {},
          "execution_count": 38
        },
        {
          "output_type": "display_data",
          "data": {
            "image/png": "[encoded data removed]",
            "text/plain": [
              "<Figure size 432x288 with 1 Axes>"
            ]
          },
          "metadata": {
            "needs_background": "light"
          }
        }
      ]
    },
    {
      "cell_type": "code",
      "metadata": {
        "colab": {
          "base_uri": "https://localhost:8080/",
          "height": 282
        },
        "id": "tG9C2RS2XPUO",
        "outputId": "9b76b879-3fd7-4899-951b-b1dfc0d5da44"
      },
      "source": [
        "plt.plot(x1, y1, color='green', marker='o', linestyle='dashed', linewidth=2, markersize=12)"
      ],
      "execution_count": null,
      "outputs": [
        {
          "output_type": "execute_result",
          "data": {
            "text/plain": [
              "[<matplotlib.lines.Line2D at 0x7fad418e0690>]"
            ]
          },
          "metadata": {},
          "execution_count": 39
        },
        {
          "output_type": "display_data",
          "data": {
            "image/png": "[encoded data removed]",
            "text/plain": [
              "<Figure size 432x288 with 1 Axes>"
            ]
          },
          "metadata": {
            "needs_background": "light"
          }
        }
      ]
    },
    {
      "cell_type": "markdown",
      "metadata": {
        "id": "lrvILwWHYHiW"
      },
      "source": [
        "para ver más posibles argumentos de la función plot puede [visitar la documentación](https://matplotlib.org/stable/api/_as_gen/matplotlib.pyplot.plot.html#matplotlib.pyplot.plot). Además, le dejo el link de los [nombres de los colores](https://matplotlib.org/stable/gallery/color/named_colors.html)"
      ]
    },
    {
      "cell_type": "markdown",
      "metadata": {
        "id": "F6ULmGu6ZJyZ"
      },
      "source": [
        "### 3.2 Diseño de figuras\n",
        "\n",
        "Con matplotlib.pyplot tenemos la posibilidad de embellecer las gráficas todo lo que queremos, sin embargo requiere de varias líneas de código para cada detalle. Por ahora solo se revisarán los más básicos."
      ]
    },
    {
      "cell_type": "code",
      "metadata": {
        "colab": {
          "base_uri": "https://localhost:8080/"
        },
        "id": "VXEYqf1WX3VW",
        "outputId": "f7b37205-0af5-4743-b585-fa618e33437d"
      },
      "source": [
        "print(plt.style.available)"
      ],
      "execution_count": null,
      "outputs": [
        {
          "output_type": "stream",
          "name": "stdout",
          "text": [
            "['Solarize_Light2', '_classic_test_patch', 'bmh', 'classic', 'dark_background', 'fast', 'fivethirtyeight', 'ggplot', 'grayscale', 'seaborn', 'seaborn-bright', 'seaborn-colorblind', 'seaborn-dark', 'seaborn-dark-palette', 'seaborn-darkgrid', 'seaborn-deep', 'seaborn-muted', 'seaborn-notebook', 'seaborn-paper', 'seaborn-pastel', 'seaborn-poster', 'seaborn-talk', 'seaborn-ticks', 'seaborn-white', 'seaborn-whitegrid', 'tableau-colorblind10']\n"
          ]
        }
      ]
    },
    {
      "cell_type": "code",
      "metadata": {
        "colab": {
          "base_uri": "https://localhost:8080/",
          "height": 297
        },
        "id": "b-6oRjteZ1F9",
        "outputId": "0566e723-2475-4815-b3a7-6bf9ddb47531"
      },
      "source": [
        "#elegimos estilo de gráfica \n",
        "plt.style.use('seaborn-dark')\n",
        "\n",
        "plt.figure(figsize=(6, 4)) #iniciamos figura con tamaño fijo\n",
        "\n",
        "#graficamos los datos\n",
        "plt.plot(x1, y1, 'c--', label='linear')\n",
        "plt.plot(x1, y2, 'm-', label='exponential')\n",
        "\n",
        "#ponemos titulo a los ejes\n",
        "plt.xlabel('x axis')\n",
        "plt.ylabel('y axis')\n",
        "\n",
        "plt.legend(loc=2) #desplegamos la legenda de cada secuencia\n",
        "plt.tight_layout() #ajustamos el espacio\n",
        " \n",
        "plt.show() #mostramos la figura"
      ],
      "execution_count": null,
      "outputs": [
        {
          "output_type": "display_data",
          "data": {
            "image/png": "[encoded data removed]",
            "text/plain": [
              "<Figure size 432x288 with 1 Axes>"
            ]
          },
          "metadata": {}
        }
      ]
    },
    {
      "cell_type": "code",
      "metadata": {
        "colab": {
          "base_uri": "https://localhost:8080/",
          "height": 297
        },
        "id": "bww66bbNamtM",
        "outputId": "698e149d-d3ed-43ac-9e08-c4f74c021b6d"
      },
      "source": [
        "#elegimos estilo de gráfica \n",
        "plt.style.use('dark_background')\n",
        "\n",
        "plt.figure(figsize=(6, 4)) #iniciamos figura con tamaño fijo\n",
        "\n",
        "#graficamos los datos\n",
        "plt.plot(x1, y1, 'c--', label='linear')\n",
        "plt.plot(x1, y2, 'm-', label='exponential')\n",
        "\n",
        "#limitamos los ejes\n",
        "plt.xlim(0, 5)\n",
        "plt.ylim(0, 100)\n",
        "\n",
        "#ponemos titulo a los ejes\n",
        "plt.xlabel('x axis')\n",
        "plt.ylabel('y axis')\n",
        "\n",
        "plt.legend(loc=2) #desplegamos la legenda de cada secuencia\n",
        "plt.tight_layout() #ajustamos el espacio\n",
        " \n",
        "plt.show() #mostramos la figura"
      ],
      "execution_count": null,
      "outputs": [
        {
          "output_type": "display_data",
          "data": {
            "image/png": "[encoded data removed]",
            "text/plain": [
              "<Figure size 432x288 with 1 Axes>"
            ]
          },
          "metadata": {}
        }
      ]
    },
    {
      "cell_type": "markdown",
      "metadata": {
        "id": "DEZ3Evy-dXFp"
      },
      "source": [
        "### 3.4 Gráficas de barras, torta e histogramas."
      ]
    },
    {
      "cell_type": "code",
      "metadata": {
        "colab": {
          "base_uri": "https://localhost:8080/",
          "height": 297
        },
        "id": "Un-7GyWfcmbE",
        "outputId": "1272e7f9-2ae6-4849-d692-524ccb149879"
      },
      "source": [
        "# --- gráfico de barras --- #\n",
        "\n",
        "xbar = np.array(['Vainilla', 'Chocolate', 'Fresa', 'Mandarina'])\n",
        "ybar = np.array([15, 20, 4, 5])\n",
        "\n",
        "#elegimos estilo de gráfica \n",
        "plt.style.use('seaborn-dark')\n",
        "\n",
        "plt.figure(figsize=(6, 4)) #iniciamos figura con tamaño fijo\n",
        "\n",
        "#creamos gráfico de barras\n",
        "plt.bar(xbar, ybar, width=0.5, color='darkblue')\n",
        "\n",
        "plt.title('Sabor favorito de helado')\n",
        "\n",
        "#ponemos titulo a los ejes\n",
        "plt.xlabel('sabor de helado')\n",
        "plt.ylabel('número de personas')\n",
        "\n",
        "plt.tight_layout() #ajustamos el espacio\n",
        " \n",
        "plt.show() #mostramos la figura"
      ],
      "execution_count": null,
      "outputs": [
        {
          "output_type": "display_data",
          "data": {
            "image/png": "[encoded data removed]",
            "text/plain": [
              "<Figure size 432x288 with 1 Axes>"
            ]
          },
          "metadata": {}
        }
      ]
    },
    {
      "cell_type": "code",
      "metadata": {
        "colab": {
          "base_uri": "https://localhost:8080/",
          "height": 248
        },
        "id": "vRcGaZ3ree0G",
        "outputId": "97ea62cc-7b4e-4c34-e007-06d6e17037df"
      },
      "source": [
        "# --- gráfico de torta --- #\n",
        "\n",
        "#diagrama de torta - dibujado en sentido de la manecilas del reloj\n",
        "labels = 'Ranas', 'Patos', 'Gallinas', 'Perros'\n",
        "sizes = [15, 30, 45, 10]\n",
        "explode = (0, 0.1, 0, 0)  #pedazo \"saliente\"\n",
        "\n",
        "#elegimos estilo de gráfica \n",
        "plt.style.use('seaborn-colorblind')\n",
        "\n",
        "plt.figure(figsize=(6, 4)) #iniciamos figura con tamaño fijo\n",
        "\n",
        "#creamos el gráfico\n",
        "plt.pie(sizes, explode=explode, labels=labels, autopct='%1.1f%%', shadow=True, startangle=90)\n",
        "plt.axis('equal')  #razon de aspecto para que si se vea circular\n",
        "\n",
        "plt.show()"
      ],
      "execution_count": null,
      "outputs": [
        {
          "output_type": "display_data",
          "data": {
            "image/png": "[encoded data removed]",
            "text/plain": [
              "<Figure size 432x288 with 1 Axes>"
            ]
          },
          "metadata": {}
        }
      ]
    },
    {
      "cell_type": "code",
      "metadata": {
        "colab": {
          "base_uri": "https://localhost:8080/",
          "height": 407
        },
        "id": "-NWuawWtffz9",
        "outputId": "8facda60-3576-4cf5-a545-c05cb04a9c73"
      },
      "source": [
        "# --- histograma --- #\n",
        "\n",
        "#elegimos estilo de gráfica \n",
        "plt.style.use('default')\n",
        "\n",
        "plt.figure(figsize=(6, 4)) #iniciamos figura con tamaño fijo\n",
        "\n",
        "#creamos el gráfico\n",
        "count, bins, ignored = plt.hist(s, 30, density=True, label='datos')\n",
        "plt.plot(bins, 1/(sigma * np.sqrt(2 * np.pi)) * np.exp( - (bins - mu)**2 / (2 * sigma**2) ),\n",
        "         'm-', linewidth=3, label='distribución')\n",
        "\n",
        "#ponemos titulo a los ejes\n",
        "plt.xlabel('bins')\n",
        "plt.ylabel('frecuencia')\n",
        "\n",
        "plt.legend(loc=2) #desplegamos la legenda de cada secuencia\n",
        "plt.tight_layout() #ajustamos el espacio\n",
        " \n",
        "plt.show() #mostramos la figura"
      ],
      "execution_count": null,
      "outputs": [
        {
          "output_type": "display_data",
          "data": {
            "image/png": "[encoded data removed]",
            "text/plain": [
              "<Figure size 600x400 with 1 Axes>"
            ]
          },
          "metadata": {}
        }
      ]
    },
    {
      "cell_type": "code",
      "metadata": {
        "id": "uPGSmWznhI0z"
      },
      "source": [
        ""
      ],
      "execution_count": null,
      "outputs": []
    }
  ]
}