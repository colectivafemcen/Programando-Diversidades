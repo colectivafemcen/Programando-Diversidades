{
  "nbformat": 4,
  "nbformat_minor": 0,
  "metadata": {
    "colab": {
      "name": "ProgramandoDiversidades_sesion4.ipynb",
      "provenance": [],
      "collapsed_sections": []
    },
    "kernelspec": {
      "name": "python3",
      "display_name": "Python 3"
    },
    "language_info": {
      "name": "python"
    }
  },
  "cells": [
    {
      "cell_type": "markdown",
      "metadata": {
        "id": "4OwmWFybVjwq"
      },
      "source": [
        "[![Open In Colab](https://colab.research.google.com/assets/colab-badge.svg)](https://colab.research.google.com/drive/1ojeNNUYQVq7OPcdPVWpC7ciivWt9axfV?usp=sharing)"
      ]
    },
    {
      "cell_type": "markdown",
      "metadata": {
        "id": "7DgZSadSealV"
      },
      "source": [
        "# Módulo Programando Diversidades - Sesión 4 \n",
        "**Análisis estadístico básico**\n",
        "\n",
        "*Por: Nicole Rivera*\n",
        "\n",
        ">En esta sesión trabajaremos con dos conjuntos de datos donde exploraremos algunos métodos para la extracción de información de estos, incluyendo el ajuste de funciones a los datos para hacer una regresión lineal. \n"
      ]
    },
    {
      "cell_type": "markdown",
      "metadata": {
        "id": "bAlImmLmfACq"
      },
      "source": [
        "## Parte 1\n",
        "\n",
        "Usaremos el set de datos [load_boston](https://scikit-learn.org/stable/modules/generated/sklearn.datasets.load_boston.html#sklearn.datasets.load_boston) de la librería [scikit learn](https://scikit-learn.org/stable/) donde podremos encontrar información sobre los precios de las casas en Boston y algunos datos acerca de las mismas, como la tasa de criminalidad per capita, distancia promedio a algunos centros empresariales, entre otros. \n",
        "\n",
        "Nos enfocaremos en la extracción de información al explorar los datos y aplicar algunos métodos aprendidos con la librería *Numpy* y su visualización usando *matplotlib.pyplot*"
      ]
    },
    {
      "cell_type": "code",
      "metadata": {
        "id": "Xc24nL27cyne"
      },
      "source": [
        "# --- librerías ---#\n",
        "import numpy as np\n",
        "import matplotlib.pyplot as plt\n",
        "from sklearn.datasets import load_boston\n",
        "\n",
        "%matplotlib inline"
      ],
      "execution_count": null,
      "outputs": []
    },
    {
      "cell_type": "code",
      "metadata": {
        "id": "Ees_50Yrg-9b"
      },
      "source": [
        "# --- cargamos el set de datos --- #\n",
        "X_boston, y_boston = load_boston(return_X_y=True)"
      ],
      "execution_count": null,
      "outputs": []
    },
    {
      "cell_type": "code",
      "metadata": {
        "id": "T5IT6XOchXaP"
      },
      "source": [
        "X_boston.shape"
      ],
      "execution_count": null,
      "outputs": []
    },
    {
      "cell_type": "code",
      "metadata": {
        "id": "vPr30Zu5iDcF"
      },
      "source": [
        "X_boston[0]"
      ],
      "execution_count": null,
      "outputs": []
    },
    {
      "cell_type": "markdown",
      "metadata": {
        "id": "ieH0p2ijhejD"
      },
      "source": [
        "De acuerdo con la documentación a cerca del conjunto de datos, la información de 506 casas está organizada y contiene las siguientes columnas. \n",
        "\n",
        "| Columna | Abreviación | Descripción |\n",
        "| --- | --- | --- |\n",
        "| 0 | CRIM | tasa de crimen per capita por ciudad |\n",
        "| 1 | ZN | proporción de terreno residencial dividido en zonas para lotes de más de 25,000 pies cuadrados.  |\n",
        "| 2 | INDUS | proporción de acres comerciales no minoristas por ciudad |\n",
        "| 3 | CHAS | Variable ficticia de Charles River (= 1 si el tramo limita con el río; 0 en caso contrario) |\n",
        "| 4 | NOX | concentración de óxidos nítricos (partes por 10 millones) | \n",
        "| 5 | RM | número medio de habitaciones por vivienda |\n",
        "| 6 | AGE | proporción de unidades ocupadas por sus propietarios construidas antes de 1940 |\n",
        "| 7 | DIS | distancias ponderadas a cinco centros de empleo de Boston |\n",
        "| 8 | RAD | índice de accesibilidad a carreteras radiales |\n",
        "| 9 | TAX | Tasa de impuesto a la propiedad de valor total por $ 10,000 |\n",
        "| 10 | PTRATIO | Proporción alumno-maestro por ciudad |\n",
        "| 11 | B100 | (B_k - 0.63)^2 donde B_k es la proporción de personas negras por ciudad |\n",
        "| 12 | LSTAT | porcentaje estado más bajo de la población |\n",
        "\n"
      ]
    },
    {
      "cell_type": "code",
      "metadata": {
        "id": "TwT9QeTOloub"
      },
      "source": [
        "y_boston[0]"
      ],
      "execution_count": null,
      "outputs": []
    },
    {
      "cell_type": "markdown",
      "metadata": {
        "id": "4pYYWWrSlrmj"
      },
      "source": [
        "Y, en el `y_boston` tenemos el **valor medio de las viviendas ocupadas por sus propietarios en miles (1000)**, de manera que usando la información en el set `X_boston` podemos estudiar la información al rededor de dichos precios. "
      ]
    },
    {
      "cell_type": "markdown",
      "metadata": {
        "id": "Lp2nAmR4xHSc"
      },
      "source": [
        "### Primera exploración a los datos\n",
        "\n",
        "Utilizaremos algunos métodos de *Numpy* para tener una mejor idea de la información que contiene nuestro conjunto de datos."
      ]
    },
    {
      "cell_type": "code",
      "metadata": {
        "id": "D5D0QDn0hYxm"
      },
      "source": [
        "# --- valores mínimos y máximos --- #\n",
        "print('valores mínimos por columna de X:', np.amin(X_boston, axis=0))\n",
        "print(' ')\n",
        "print('valor mínimo de y:', np.min(y_boston))\n",
        "print(' ')\n",
        "print('valores máximos por columna de X:', np.amax(X_boston, axis=0))\n",
        "print(' ')\n",
        "print('valor máximo de y:', np.max(y_boston))"
      ],
      "execution_count": null,
      "outputs": []
    },
    {
      "cell_type": "code",
      "metadata": {
        "id": "9ymFxLMZx4G0"
      },
      "source": [
        "# --- promedios y desviación estandar --- # \n",
        "print('valores promedio por columna de X:', np.mean(X_boston, axis=0))\n",
        "print(' ')\n",
        "print('desviación estandar por columna de X:', np.std(X_boston, axis=0))\n",
        "print(' ')\n",
        "print('valor promedio de y:', np.mean(y_boston))\n",
        "print(' ')\n",
        "print('desviación estandar de y:', np.std(y_boston))\n",
        "\n",
        "# --- mediana --- #\n",
        "print('mediana de y:', np.median(y_boston))"
      ],
      "execution_count": null,
      "outputs": []
    },
    {
      "cell_type": "markdown",
      "metadata": {
        "id": "Cvxwwuo-zaaB"
      },
      "source": [
        "### Primera visualización de los datos\n",
        "\n",
        "Con el fin de contextualizarnos un poco mejor con respecto a los datos los gráficaremos de diferentes maneras para desarrollar una mejor idea sobre lo que podemos hacer con ellos."
      ]
    },
    {
      "cell_type": "code",
      "metadata": {
        "id": "Lwzq-MKDyFKM"
      },
      "source": [
        "# --- histograma de los precios --- #\n",
        "plt.figure(figsize=(6, 4))\n",
        "plt.hist(y_boston, bins=20)\n",
        "plt.ylabel('frecuencia')\n",
        "plt.xlabel('precio en miles de dólares')\n",
        "plt.show()"
      ],
      "execution_count": null,
      "outputs": []
    },
    {
      "cell_type": "markdown",
      "metadata": {
        "id": "uRbbQdX0HZKb"
      },
      "source": [
        "¿podemos afirmar que los precios tienen una distribución gaussiana?\n"
      ]
    },
    {
      "cell_type": "code",
      "metadata": {
        "id": "kOo9IG-mJ38w"
      },
      "source": [
        "from scipy.optimize import curve_fit\n",
        "\n",
        "y, x = np.histogram(y_boston, bins=20)\n",
        "\n",
        "n = y_boston.size\n",
        "mean = np.mean(y_boston)\n",
        "sigma = np.std(y_boston)\n",
        "\n",
        "def normal_dist(x,a,x0,sigma):\n",
        "    return a*np.exp(-pow(x-x0, 2)/(2*pow(sigma,2)))\n",
        "\n",
        "popt,pcov = curve_fit(normal_dist, x[:-1], y, p0=[1,mean,sigma])"
      ],
      "execution_count": null,
      "outputs": []
    },
    {
      "cell_type": "code",
      "metadata": {
        "id": "labCUFySKVs3"
      },
      "source": [
        "plt.plot(x[:-1], y,'b+:',label='datos')\n",
        "plt.plot(x, normal_dist(x,*popt),'ro:',label='ajuste')\n",
        "plt.legend()\n",
        "plt.xlabel('precio en 1000s')\n",
        "plt.ylabel('frecuencia')\n",
        "plt.show()"
      ],
      "execution_count": null,
      "outputs": []
    },
    {
      "cell_type": "code",
      "metadata": {
        "id": "3zQSIYJfOGnz"
      },
      "source": [
        "plt.figure(figsize=(6, 4))\n",
        "plt.hist(y_boston, bins=20, color='lightblue', label='datos')\n",
        "plt.plot(x, normal_dist(x,*popt),'ro:',label='ajuste')\n",
        "plt.legend()\n",
        "plt.ylabel('frecuencia')\n",
        "plt.xlabel('precio en miles de dólares')\n",
        "plt.show()"
      ],
      "execution_count": null,
      "outputs": []
    },
    {
      "cell_type": "markdown",
      "metadata": {
        "id": "_Bv05qMzKaaG"
      },
      "source": [
        "¿Qué podemos decir de los otros datos? "
      ]
    },
    {
      "cell_type": "code",
      "metadata": {
        "id": "FiAd7HEkGrVI"
      },
      "source": [
        "# --- gráficas de algunos datos sobre las casas --- #\n",
        "fig, ax = plt.subplots(1, 2, figsize=(10, 4))\n",
        "\n",
        "fig.suptitle('Información de interés')\n",
        "\n",
        "ax[0].hist(X_boston[:, 2], bins=10)\n",
        "\n",
        "ax[1].plot(X_boston[:, 9], y_boston, 'k.')\n",
        "\n",
        "plt.show()"
      ],
      "execution_count": null,
      "outputs": []
    },
    {
      "cell_type": "markdown",
      "metadata": {
        "id": "rcsxiCH5Iv8I"
      },
      "source": [
        "### Correlación y ajustes de funciones\n",
        "\n",
        "A partir de la exploración, vamos a estudiar si existe alguna correlación entre la información que se nos otorgó y si podemos ajustar alguna forma funcional. "
      ]
    },
    {
      "cell_type": "code",
      "metadata": {
        "id": "f49i81C0HwN3"
      },
      "source": [
        "np.corrcoef(X_boston[:, 12], y_boston, rowvar=False)"
      ],
      "execution_count": null,
      "outputs": []
    },
    {
      "cell_type": "markdown",
      "metadata": {
        "id": "xsH6pwDLKQ0o"
      },
      "source": [
        "**¿Cuál variable podría tener relacionarse funcionalmente con el valor de las casas?**\n",
        "\n"
      ]
    },
    {
      "cell_type": "code",
      "metadata": {
        "id": "LHr15e3yJ4V-"
      },
      "source": [
        "# --- graficamos las dependencias encontradas --- #\n",
        "\n",
        "plt.figure(figsize=(6, 4))\n",
        "plt.plot(X_boston[:, 12], y_boston, 'c.')\n",
        "plt.xlabel('caracteristica seleccionada')\n",
        "plt.ylabel('precio en 1000s')\n",
        "plt.show()"
      ],
      "execution_count": null,
      "outputs": []
    },
    {
      "cell_type": "markdown",
      "metadata": {
        "id": "A4YUdJLQLSNE"
      },
      "source": [
        "Uno de los ajustes más conocidos es el de mínimos cuadrados, por eso, usaremos la función `numpy.polyfit` para realizar una regresión lineal de la forma $y = mx + b$. "
      ]
    },
    {
      "cell_type": "code",
      "metadata": {
        "id": "gesQD70DKzXT"
      },
      "source": [
        "np.polyfit?"
      ],
      "execution_count": null,
      "outputs": []
    },
    {
      "cell_type": "code",
      "metadata": {
        "id": "7RiRvL32Mvoi"
      },
      "source": [
        "# --- elegimos el índice de nuestra caracteristica --- #\n",
        "c_num = 5"
      ],
      "execution_count": null,
      "outputs": []
    },
    {
      "cell_type": "code",
      "metadata": {
        "id": "ZgoMIzM8Lsq4"
      },
      "source": [
        "# --- ajuste a un polinomio de primer orden --- #\n",
        "pov_boston, cov_boston = np.polyfit(X_boston[:, c_num], y_boston, 1, cov=True)"
      ],
      "execution_count": null,
      "outputs": []
    },
    {
      "cell_type": "code",
      "metadata": {
        "id": "aREg_pd7MIjR"
      },
      "source": [
        "# --- creamos datos con nuestro ajuste --- # \n",
        "x = np.linspace(3, 9, 30)\n",
        "y = pov_boston[1] + pov_boston[0]*x"
      ],
      "execution_count": null,
      "outputs": []
    },
    {
      "cell_type": "code",
      "metadata": {
        "id": "ft5fJs5hMTdj"
      },
      "source": [
        "# --- visualizamos nuestro ajuste --- #\n",
        "plt.figure(figsize=(6, 4))\n",
        "plt.plot(X_boston[:, c_num], y_boston, 'm.', label='datos')\n",
        "plt.plot(x, y, 'c--', label='ajuste')\n",
        "plt.xlabel('caracteristica seleccionada')\n",
        "plt.ylabel('precion en 1000s')\n",
        "plt.legend()\n",
        "plt.show()"
      ],
      "execution_count": null,
      "outputs": []
    },
    {
      "cell_type": "code",
      "metadata": {
        "id": "-MUYym_VUpjb"
      },
      "source": [
        "cov_boston"
      ],
      "execution_count": null,
      "outputs": []
    },
    {
      "cell_type": "markdown",
      "metadata": {
        "id": "0nEeDF16O87u"
      },
      "source": [
        "**¿Qué hemos aprendido?** [corto compartir](https://docs.google.com/forms/d/e/1FAIpQLSc3T9tii9c1LQ9dXhbu7K7K5KOgWXLFYEBCfuPsv3HKukq9ng/viewform?usp=sf_link)\n",
        "\n",
        "![image](https://st4.depositphotos.com/36728490/39869/v/600/depositphotos_398698986-stock-illustration-beautiful-young-woman-thinking-and.jpg)"
      ]
    },
    {
      "cell_type": "markdown",
      "metadata": {
        "id": "jKI1_DF8VU1m"
      },
      "source": [
        "## Parte 2\n",
        "\n",
        "Descargaremos el [conjunto de datos](https://www4.stat.ncsu.edu/~boos/var.select/diabetes.tab.txt) original de Bradley Efron, Trevor Hastie, Iain Johnstone and Robert Tibshirani (2004) “Least Angle Regression,” Annals of Statistics (with discussion), 407-499. \n",
        "\n",
        "Este nuevo set de datos contiene información sobre algunas variables que se midieron a pacientes con diabetes un año antes de la medida de control de la enfermedad. \n",
        "\n",
        "El objetivo es aplicar un estudio preliminar a este conjunto de datos y establecer que podemos y que no podemos decir sobre ellos.\n",
        "\n",
        "[aquí les dejo el link del documento respectivo](https://web.stanford.edu/~hastie/Papers/LARS/LeastAngle_2002.pdf)"
      ]
    },
    {
      "cell_type": "markdown",
      "metadata": {
        "id": "X6KC9uXbTU0x"
      },
      "source": [
        "### Explorando los datos\n",
        "\n",
        "En primer lugar sabemos que los datos contienen la siguiente información:\n",
        "\n",
        "| Columna | Descripción |\n",
        "| --- | --- | \n",
        "| 0 | Edad en años |\n",
        "| 1 | Sexo |\n",
        "| 2 | Índice de masa corporal |\n",
        "| 3 | Presión arterial promedio |\n",
        "| 4 | Colesterol sérico total |\n",
        "| 5 | Lipoproteínas de baja densidad |\n",
        "| 6 | Lipoproteínas de alta densidad |\n",
        "| 7 | Colecterol total / HDL |\n",
        "| 8 | Nivel de triglicéridos en suero* |\n",
        "| 9 | Nivel de azucar en la sangre |\n",
        "| 10 | Medida de progresión de la enfermedad |\n",
        "\n",
        "*Posiblemente en escala logarítmica. "
      ]
    },
    {
      "cell_type": "code",
      "metadata": {
        "id": "4JS8fmfhQwYq"
      },
      "source": [
        "Datos = np.loadtxt('https://www4.stat.ncsu.edu/~boos/var.select/diabetes.tab.txt', skiprows=1)"
      ],
      "execution_count": null,
      "outputs": []
    },
    {
      "cell_type": "code",
      "metadata": {
        "id": "_AGt1HhOR1dZ"
      },
      "source": [
        "Datos.shape"
      ],
      "execution_count": null,
      "outputs": []
    },
    {
      "cell_type": "markdown",
      "metadata": {
        "id": "KN0wWnbTWLKS"
      },
      "source": [
        "Separamos los datos en dos conjuntos. "
      ]
    },
    {
      "cell_type": "code",
      "metadata": {
        "id": "vJSYbWDbR_8K"
      },
      "source": [
        "# --- caracteristicas --- #\n",
        "X_diabetes = Datos[:, :-1]\n",
        "# --- respuesta --- #\n",
        "y_diabetes = Datos[:, -1]"
      ],
      "execution_count": null,
      "outputs": []
    },
    {
      "cell_type": "markdown",
      "metadata": {
        "id": "7pbEKYMBWsMW"
      },
      "source": [
        "**¿Qué sigue?**"
      ]
    },
    {
      "cell_type": "code",
      "metadata": {
        "id": "kyviu4CqWc-H"
      },
      "source": [
        ""
      ],
      "execution_count": null,
      "outputs": []
    }
  ]
}